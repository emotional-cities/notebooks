{
 "cells": [
  {
   "cell_type": "code",
   "execution_count": null,
   "metadata": {},
   "outputs": [],
   "source": [
    "from modules import *\n",
    "%matplotlib widget\n",
    "datapicker = create_datapicker()"
   ]
  },
  {
   "cell_type": "markdown",
   "metadata": {},
   "source": [
    "### 1. Load dataset"
   ]
  },
  {
   "cell_type": "code",
   "execution_count": null,
   "metadata": {},
   "outputs": [],
   "source": [
    "display(datapicker)"
   ]
  },
  {
   "cell_type": "code",
   "execution_count": null,
   "metadata": {},
   "outputs": [],
   "source": [
    "path = r'C:\\Users\\AndréAlmeida\\NeuroGEARS Ltd\\Emotional Cities - Documents\\Experiment Control and Acquisition\\Datasets\\Lisbon\\Graca\\Lisbon_Graça_sub-OE105017_2024-05-08T161023Z'\n",
    "datapicker.reset(path = path)\n",
    "create_dataset(datapicker = datapicker)"
   ]
  },
  {
   "cell_type": "markdown",
   "metadata": {},
   "source": [
    "### 2. Explore Dataset Maps"
   ]
  },
  {
   "cell_type": "code",
   "execution_count": null,
   "metadata": {},
   "outputs": [],
   "source": [
    "exploremap(datapicker.geodata, column='tk_airquality_iaqindex_value')"
   ]
  },
  {
   "cell_type": "markdown",
   "metadata": {},
   "source": [
    "### 3. Explore Dataset Streams"
   ]
  },
  {
   "cell_type": "code",
   "execution_count": null,
   "metadata": {},
   "outputs": [],
   "source": [
    "datapicker.dataset.streams.Empatica.data.E4_Gsr\n"
   ]
  },
  {
   "cell_type": "code",
   "execution_count": null,
   "metadata": {},
   "outputs": [],
   "source": [
    "plot_traces({\n",
    "    'accelX': datapicker.dataset.streams.Accelerometer.data[\"Accl_X\"],\n",
    "    'temp (C)': datapicker.dataset.streams.TK.AirQuality.Temperature.data/100,\n",
    "    'angleX': datapicker.dataset.streams.Accelerometer.data[\"Orientation_X\"],\n",
    "    'altitude': datapicker.dataset.georeference.elevation,\n",
    "    'iaq': datapicker.dataset.streams.TK.AirQuality.IAQIndex.data,\n",
    "    'Ibi': datapicker.dataset.streams.Empatica.data.E4_Hr.Value,\n",
    "})"
   ]
  },
  {
   "cell_type": "markdown",
   "metadata": {},
   "source": [
    "### 4 Export Dataset"
   ]
  },
  {
   "cell_type": "markdown",
   "metadata": {},
   "source": [
    "#### 4.1 Export Dataset to Empatica analysis  "
   ]
  },
  {
   "cell_type": "code",
   "execution_count": null,
   "metadata": {},
   "outputs": [],
   "source": [
    "lsl_markers = datapicker.dataset.streams.EEG.server_lsl_marker[datapicker.dataset.streams.EEG.server_lsl_marker.MarkerIdx>35000]"
   ]
  },
  {
   "cell_type": "code",
   "execution_count": null,
   "metadata": {},
   "outputs": [],
   "source": [
    "from pluma.preprocessing.ecg import heartrate_from_ecg\n",
    "ecg_hr,_ = heartrate_from_ecg(datapicker.dataset.streams.BioData.ECG,\n",
    "                                         fs = 250, max_heartrate_bpm = 250.0,\n",
    "                                        peak_height = 800, smooth_win = 10)\n",
    "ecg_hr.plot()"
   ]
  },
  {
   "cell_type": "code",
   "execution_count": null,
   "metadata": {},
   "outputs": [],
   "source": [
    "lsl_markers.to_csv(datapicker.selected_path+r'\\lsl_markers.csv')\n",
    "ecg_hr.to_csv(datapicker.selected_path+r'\\ecg_hr.csv')\n",
    "e4_gsr = datapicker.dataset.streams.Empatica.data.E4_Gsr.to_csv(datapicker.selected_path+r'\\e4_gsr.csv')\n",
    "e4_temp = datapicker.dataset.streams.Empatica.data.E4_Temperature.to_csv(datapicker.selected_path+r'\\e4_temp.csv')\n",
    "e4_ibi = datapicker.dataset.streams.Empatica.data.E4_Ibi.to_csv(datapicker.selected_path+r'\\e4_ibi.csv')\n",
    "e4_bvp = datapicker.dataset.streams.Empatica.data.E4_Bvp.to_csv(datapicker.selected_path+r'\\e4_bvp.csv')\n",
    "e4_acc = datapicker.dataset.streams.Empatica.data.E4_Acc.to_csv(datapicker.selected_path+r'\\e4_acc.csv')\n",
    "e4_hr = datapicker.dataset.streams.Empatica.data.E4_Hr.to_csv(datapicker.selected_path+r'\\e4_hr.csv')\n",
    "ecg = datapicker.dataset.streams.BioData.ECG.data.Value0.to_frame().to_csv(datapicker.selected_path+r'\\ecg.csv')\n"
   ]
  },
  {
   "cell_type": "markdown",
   "metadata": {},
   "source": [
    "#### 4.2 Export Dataset to OGC API"
   ]
  },
  {
   "cell_type": "code",
   "execution_count": null,
   "metadata": {},
   "outputs": [],
   "source": [
    "record = DatasetRecord(datapicker.dataset, datapicker.geodata, properties=RecordProperties(\n",
    "    title='<City> Outdoor Walk: <CityRegion> Subject <ID>',\n",
    "    description='Outdoor walk data collection',\n",
    "    license='CC BY-NC 4.0',\n",
    "    tool='Bonsai',\n",
    "    keywords=['<City>', 'Outdoor', 'Walk', 'Microclimate', 'Biosignals'],\n",
    "    contacts=[\n",
    "        Contact(\n",
    "            name='Your Name',\n",
    "            institution='Your Institution',\n",
    "            email='youremail@yourdomain.com'\n",
    "        )\n",
    "    ],\n",
    "    themes=[]\n",
    "))"
   ]
  },
  {
   "cell_type": "code",
   "execution_count": null,
   "metadata": {},
   "outputs": [],
   "source": [
    "rpath = Path(record.id)\n",
    "export_geoframe_to_geojson(datapicker.geodata, rpath.with_suffix('.geojson'))\n",
    "with open(rpath.with_suffix('.json'), 'w') as f:\n",
    "    f.write(record.to_json())"
   ]
  }
 ],
 "metadata": {
  "kernelspec": {
   "display_name": "Python 3.9.7 ('ecities')",
   "language": "python",
   "name": "python3"
  },
  "language_info": {
   "codemirror_mode": {
    "name": "ipython",
    "version": 3
   },
   "file_extension": ".py",
   "mimetype": "text/x-python",
   "name": "python",
   "nbconvert_exporter": "python",
   "pygments_lexer": "ipython3",
   "version": "3.11.9"
  },
  "orig_nbformat": 4,
  "vscode": {
   "interpreter": {
    "hash": "48653fe3dda52384a74b4629056b2ddac10114526fe1f868c0a7cdd8bc2dd6c3"
   }
  }
 },
 "nbformat": 4,
 "nbformat_minor": 2
}
