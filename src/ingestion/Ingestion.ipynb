{
 "cells": [
  {
   "cell_type": "code",
   "execution_count": null,
   "metadata": {},
   "outputs": [],
   "source": [
    "from modules import *\n",
    "%matplotlib widget"
   ]
  },
  {
   "cell_type": "markdown",
   "metadata": {},
   "source": [
    "### 1. Load dataset"
   ]
  },
  {
   "cell_type": "code",
   "execution_count": null,
   "metadata": {},
   "outputs": [],
   "source": [
    "datapicker = create_datapicker()\n",
    "display(datapicker)"
   ]
  },
  {
   "cell_type": "markdown",
   "metadata": {},
   "source": [
    "### 2. Explore Dataset Maps"
   ]
  },
  {
   "cell_type": "code",
   "execution_count": null,
   "metadata": {},
   "outputs": [],
   "source": [
    "exploremap(datapicker.geodata, column='tk_airquality_iaqindex_value')"
   ]
  },
  {
   "cell_type": "markdown",
   "metadata": {},
   "source": [
    "### 3. Explore Dataset Streams"
   ]
  },
  {
   "cell_type": "code",
   "execution_count": null,
   "metadata": {},
   "outputs": [],
   "source": [
    "plot_traces({\n",
    "    'accelX': datapicker.dataset.streams.Accelerometer.data[\"Accl_X\"],\n",
    "    'temp (C)': datapicker.dataset.streams.TK.AirQuality.Temperature.data/100,\n",
    "    'angleX': datapicker.dataset.streams.Accelerometer.data[\"Orientation_X\"],\n",
    "    'altitude': datapicker.dataset.georeference.elevation,\n",
    "    'iaq': datapicker.dataset.streams.TK.AirQuality.IAQIndex.data,\n",
    "    'ecg': datapicker.dataset.streams.BioData.ECG.data,\n",
    "    'e4': datapicker.dataset.streams.Empatica.data.E4_Gsr.Value,\n",
    "})\n",
    "\n",
    "# plot_traces({\n",
    "#     # 'accelX': datapicker.dataset.streams.Accelerometer.data[\"Accl_X\"],\n",
    "#     # 'temp (C)': datapicker.dataset.streams.TK.AirQuality.Temperature.data/100,\n",
    "#     # 'angleX': datapicker.dataset.streams.Accelerometer.data[\"Orientation_X\"],\n",
    "#     # 'altitude': datapicker.dataset.georeference.elevation,\n",
    "#     # 'iaq': datapicker.dataset.streams.TK.AirQuality.IAQIndex.data,\n",
    "#     # 'e4': datapicker.dataset.streams.E4.Gsr,\n",
    "# })"
   ]
  },
  {
   "cell_type": "markdown",
   "metadata": {},
   "source": [
    "### 4. Export Dataset to OGC API"
   ]
  },
  {
   "cell_type": "code",
   "execution_count": null,
   "metadata": {},
   "outputs": [],
   "source": [
    "record = DatasetRecord(datapicker.dataset, datapicker.geodata, properties=RecordProperties(\n",
    "    title='<City> Outdoor Walk: <CityRegion> Subject <ID>',\n",
    "    description='Outdoor walk data collection',\n",
    "    license='CC BY-NC 4.0',\n",
    "    tool='Bonsai',\n",
    "    keywords=['<City>', 'Outdoor', 'Walk', 'Microclimate', 'Biosignals'],\n",
    "    contacts=[\n",
    "        Contact(\n",
    "            name='Your Name',\n",
    "            institution='Your Institution',\n",
    "            email='youremail@yourdomain.com'\n",
    "        )\n",
    "    ],\n",
    "    themes=[]\n",
    "))"
   ]
  },
  {
   "cell_type": "code",
   "execution_count": null,
   "metadata": {},
   "outputs": [],
   "source": [
    "rpath = Path(record.id)\n",
    "export_geoframe_to_geojson(datapicker.geodata, rpath.with_suffix('.geojson'))\n",
    "with open(rpath.with_suffix('.json'), 'w') as f:\n",
    "    f.write(record.to_json())"
   ]
  },
  {
   "cell_type": "markdown",
   "metadata": {},
   "source": [
    "### 5. Export gaze data "
   ]
  },
  {
   "cell_type": "code",
   "execution_count": null,
   "metadata": {},
   "outputs": [],
   "source": [
    "import pandas as pd\n",
    "gaze_timestamps = datapicker.dataset.streams.PupilLabs.Counter.Gaze.data\n",
    "#gaze_timestamps.reset_index(inplace = T1rue)\n",
    "gaze_data = datapicker.dataset.streams.PupilLabs.PupilGaze.data\n",
    "gaze = gaze_timestamps.join(gaze_data, on='Value') \n",
    "gaze = gaze.drop('Value', axis=1)\n",
    "video_frames = datapicker.dataset.streams.PupilLabs.Counter.DecodedFrames.data\n",
    "video_frames = video_frames[video_frames.Value !=0]\n",
    "#eyetracking_correlation = pd.merge_asof(data, space_time, left_index=True, right_index=True)\n",
    "gaze_coorelation = pd.merge_asof(video_frames, gaze, left_index=True, right_index=True)\n",
    "\n",
    "gaze_coorelation.to_csv(datapicker._selected_path+r'\\gaze_coorelation.csv')\n",
    "gaze_coorelation"
   ]
  }
 ],
 "metadata": {
  "kernelspec": {
   "display_name": "Python 3.9.7 ('ecities')",
   "language": "python",
   "name": "python3"
  },
  "language_info": {
   "codemirror_mode": {
    "name": "ipython",
    "version": 3
   },
   "file_extension": ".py",
   "mimetype": "text/x-python",
   "name": "python",
   "nbconvert_exporter": "python",
   "pygments_lexer": "ipython3",
   "version": "3.11.9"
  },
  "orig_nbformat": 4,
  "vscode": {
   "interpreter": {
    "hash": "48653fe3dda52384a74b4629056b2ddac10114526fe1f868c0a7cdd8bc2dd6c3"
   }
  }
 },
 "nbformat": 4,
 "nbformat_minor": 2
}
